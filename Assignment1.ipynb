{
 "cells": [
  {
   "cell_type": "code",
   "execution_count": 1,
   "id": "39f1796c-2208-4a5e-91c0-3ea543528fc5",
   "metadata": {},
   "outputs": [],
   "source": [
    "my_variable = {\n",
    "    \"string\": \"Hello, World!\",\n",
    "    \"list\": [1, 2, 3, 4, 5],\n",
    "    \"float\": 3.14,\n",
    "    \"tuple\": (10, 20, 30)\n",
    "}"
   ]
  },
  {
   "cell_type": "raw",
   "id": "b6d64f8f-de56-418c-b0b3-66caad6a7d3b",
   "metadata": {},
   "source": [
    "'var1' has data type 'str'.\n",
    "'var2' has data type 'str'.\n",
    "'var3' has data type 'list'.\n",
    "'var4' has data type 'int'."
   ]
  },
  {
   "cell_type": "raw",
   "id": "7cca9fa8-a495-4fe8-adcd-37dfddc58c5c",
   "metadata": {},
   "source": [
    "'/' (Division Operator): The division operator is used to divide one number by another and obtain the quotient as the result. It performs normal division and returns a float result.\n",
    "Example:"
   ]
  },
  {
   "cell_type": "code",
   "execution_count": 2,
   "id": "fdfacce8-bd11-498d-8556-3c26842f5e16",
   "metadata": {},
   "outputs": [
    {
     "name": "stdout",
     "output_type": "stream",
     "text": [
      "3.3333333333333335\n"
     ]
    }
   ],
   "source": [
    "result = 10 / 3\n",
    "print(result)  \n"
   ]
  },
  {
   "cell_type": "raw",
   "id": "0c9b8c4c-4841-4fb6-bc46-06e61b651824",
   "metadata": {},
   "source": [
    "'%' (Modulo Operator): The modulo operator is used to calculate the remainder of a division operation. It returns the remainder after dividing one number by another.\n",
    "Example:"
   ]
  },
  {
   "cell_type": "code",
   "execution_count": 3,
   "id": "9228e0c2-c43f-48ce-aa55-b5e85e0822e0",
   "metadata": {},
   "outputs": [
    {
     "name": "stdout",
     "output_type": "stream",
     "text": [
      "1\n"
     ]
    }
   ],
   "source": [
    "remainder = 10 % 3\n",
    "print(remainder)"
   ]
  },
  {
   "cell_type": "code",
   "execution_count": null,
   "id": "404c8111-513e-4b24-84e6-d3b12742cbca",
   "metadata": {},
   "outputs": [],
   "source": [
    "'//' (Floor Division Operator): The floor division operator is used to perform division where the result is rounded down to the nearest whole number (floor value). It returns an integer result, discarding any decimal places.\n",
    "Example:"
   ]
  },
  {
   "cell_type": "code",
   "execution_count": 5,
   "id": "f87af246-706a-4643-90dc-da85a65e23fa",
   "metadata": {},
   "outputs": [
    {
     "name": "stdout",
     "output_type": "stream",
     "text": [
      "3\n"
     ]
    }
   ],
   "source": [
    "result = 10 // 3\n",
    "print(result)"
   ]
  },
  {
   "cell_type": "code",
   "execution_count": null,
   "id": "e8368443-3321-4072-8a2d-8e808636ea93",
   "metadata": {},
   "outputs": [],
   "source": [
    "'**' (Exponentiation Operator): The exponentiation operator is used to raise a number to a power. It calculates the result of raising the base number to the exponent.\n",
    "Example:"
   ]
  },
  {
   "cell_type": "code",
   "execution_count": 6,
   "id": "e85c9842-9c8f-4fa3-817e-a2723d6098ff",
   "metadata": {},
   "outputs": [
    {
     "name": "stdout",
     "output_type": "stream",
     "text": [
      "8\n"
     ]
    }
   ],
   "source": [
    "result = 2 ** 3\n",
    "print(result)"
   ]
  },
  {
   "cell_type": "code",
   "execution_count": 7,
   "id": "3480594f-dce0-46b1-882d-d93c1a5f9d50",
   "metadata": {},
   "outputs": [
    {
     "name": "stdout",
     "output_type": "stream",
     "text": [
      "Element: 10, Data Type: <class 'int'>\n",
      "Element: Hello, Data Type: <class 'str'>\n",
      "Element: 3.14, Data Type: <class 'float'>\n",
      "Element: True, Data Type: <class 'bool'>\n",
      "Element: [1, 2, 3], Data Type: <class 'list'>\n",
      "Element: {'name': 'John', 'age': 25}, Data Type: <class 'dict'>\n",
      "Element: (4, 5, 6), Data Type: <class 'tuple'>\n",
      "Element: None, Data Type: <class 'NoneType'>\n",
      "Element: OpenAI, Data Type: <class 'str'>\n",
      "Element: 99, Data Type: <class 'int'>\n"
     ]
    }
   ],
   "source": [
    "my_list = [10, 'Hello', 3.14, True, [1, 2, 3], {'name': 'John', 'age': 25}, (4, 5, 6), None, 'OpenAI', 99]\n",
    "\n",
    "for element in my_list:\n",
    "    print(f\"Element: {element}, Data Type: {type(element)}\")\n"
   ]
  },
  {
   "cell_type": "code",
   "execution_count": 8,
   "id": "139e2d68-b967-4add-b822-f9e682ff129b",
   "metadata": {},
   "outputs": [
    {
     "name": "stdout",
     "output_type": "stream",
     "text": [
      "Number of times A is divisible by B: 1\n"
     ]
    }
   ],
   "source": [
    "A = 48\n",
    "B = 3\n",
    "\n",
    "count = 0\n",
    "while A % B == 0:\n",
    "    A = A // B\n",
    "    count += 1\n",
    "\n",
    "print(f\"Number of times A is divisible by B: {count}\")\n"
   ]
  },
  {
   "cell_type": "code",
   "execution_count": 9,
   "id": "22450f54-335f-4104-bb97-a148037bf241",
   "metadata": {},
   "outputs": [
    {
     "name": "stdout",
     "output_type": "stream",
     "text": [
      "10 is not divisible by 3\n",
      "12 is divisible by 3\n",
      "15 is divisible by 3\n",
      "18 is divisible by 3\n",
      "20 is not divisible by 3\n",
      "22 is not divisible by 3\n",
      "25 is not divisible by 3\n",
      "28 is not divisible by 3\n",
      "30 is divisible by 3\n",
      "33 is divisible by 3\n",
      "36 is divisible by 3\n",
      "40 is not divisible by 3\n",
      "42 is divisible by 3\n",
      "45 is divisible by 3\n",
      "48 is divisible by 3\n",
      "50 is not divisible by 3\n",
      "52 is not divisible by 3\n",
      "55 is not divisible by 3\n",
      "58 is not divisible by 3\n",
      "60 is divisible by 3\n",
      "63 is divisible by 3\n",
      "66 is divisible by 3\n",
      "70 is not divisible by 3\n",
      "72 is divisible by 3\n",
      "75 is divisible by 3\n"
     ]
    }
   ],
   "source": [
    "my_list = [10, 12, 15, 18, 20, 22, 25, 28, 30, 33, 36, 40, 42, 45, 48, 50, 52, 55, 58, 60, 63, 66, 70, 72, 75]\n",
    "\n",
    "for element in my_list:\n",
    "    if element % 3 == 0:\n",
    "        print(f\"{element} is divisible by 3\")\n",
    "    else:\n",
    "        print(f\"{element} is not divisible by 3\")\n"
   ]
  },
  {
   "cell_type": "raw",
   "id": "59f359fd-0b8a-4dcc-a7a9-e6785df9ea16",
   "metadata": {},
   "source": [
    "Immutable data types:\n",
    "\n",
    "Immutable objects cannot be changed once they are created. Any attempt to modify them results in the creation of a new object. Examples of immutable data types in Python include strings, numbers (integers, floats), and tuples.\n",
    "Here's an example showcasing the immutability of strings:"
   ]
  },
  {
   "cell_type": "code",
   "execution_count": 10,
   "id": "95fcc5f2-6506-4472-b0e2-5ce53aaa396d",
   "metadata": {},
   "outputs": [
    {
     "name": "stdout",
     "output_type": "stream",
     "text": [
      "Hello\n"
     ]
    }
   ],
   "source": [
    "string = \"Hello\"\n",
    "print(string)\n"
   ]
  },
  {
   "cell_type": "code",
   "execution_count": 11,
   "id": "7d5469fe-1d38-4f4d-ae29-4a4f6383c884",
   "metadata": {},
   "outputs": [
    {
     "name": "stdout",
     "output_type": "stream",
     "text": [
      "Hello World\n"
     ]
    }
   ],
   "source": [
    "string += \" World\"\n",
    "print(string) "
   ]
  },
  {
   "cell_type": "code",
   "execution_count": 12,
   "id": "1be72d1e-95b3-4377-817a-f1815542a161",
   "metadata": {},
   "outputs": [
    {
     "name": "stdout",
     "output_type": "stream",
     "text": [
      "Hello World\n"
     ]
    }
   ],
   "source": [
    "print(string) "
   ]
  },
  {
   "cell_type": "raw",
   "id": "c2f587d3-d234-4962-b305-2a33060eb27c",
   "metadata": {},
   "source": [
    "Mutable data types:\n",
    "\n",
    "Mutable objects can be modified after they are created. Any changes made to the object directly modify its state. Examples of mutable data types in Python include lists, dictionaries, and sets.\n",
    "Here's an example showcasing the mutability of lists:"
   ]
  },
  {
   "cell_type": "code",
   "execution_count": 13,
   "id": "a2464334-d875-4cfc-b289-d88540004468",
   "metadata": {},
   "outputs": [
    {
     "name": "stdout",
     "output_type": "stream",
     "text": [
      "[1, 2, 3]\n"
     ]
    }
   ],
   "source": [
    "my_list = [1, 2, 3]\n",
    "print(my_list) "
   ]
  },
  {
   "cell_type": "code",
   "execution_count": 14,
   "id": "43443b1b-8cc3-4104-86e6-2d1864462248",
   "metadata": {},
   "outputs": [
    {
     "name": "stdout",
     "output_type": "stream",
     "text": [
      "[1, 2, 3, 4]\n"
     ]
    }
   ],
   "source": [
    "my_list.append(4)\n",
    "print(my_list)  "
   ]
  },
  {
   "cell_type": "code",
   "execution_count": 15,
   "id": "e6869769-be4e-4196-9d8b-73b25dde8fa2",
   "metadata": {},
   "outputs": [
    {
     "name": "stdout",
     "output_type": "stream",
     "text": [
      "[1, 2, 3, 4]\n"
     ]
    }
   ],
   "source": [
    "print(my_list)"
   ]
  },
  {
   "cell_type": "code",
   "execution_count": null,
   "id": "2ca15653-75bb-4d9c-8ab0-7f80ccee4dcc",
   "metadata": {},
   "outputs": [],
   "source": []
  }
 ],
 "metadata": {
  "kernelspec": {
   "display_name": "Python 3 (ipykernel)",
   "language": "python",
   "name": "python3"
  },
  "language_info": {
   "codemirror_mode": {
    "name": "ipython",
    "version": 3
   },
   "file_extension": ".py",
   "mimetype": "text/x-python",
   "name": "python",
   "nbconvert_exporter": "python",
   "pygments_lexer": "ipython3",
   "version": "3.10.8"
  }
 },
 "nbformat": 4,
 "nbformat_minor": 5
}
